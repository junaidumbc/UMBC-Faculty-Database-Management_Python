{
 "cells": [
  {
   "cell_type": "markdown",
   "id": "fd12f08c",
   "metadata": {},
   "source": [
    "# **UMBC Faculty Database Management Using Python***"
   ]
  },
  {
   "cell_type": "markdown",
   "id": "016c06de",
   "metadata": {},
   "source": [
    "* Created UMBC Faculty database Management. It have the information of Data science and Computer Science department professors details.It will have the option to add, delete and many more functionalities of the personal details of the professor into the university database. Applied Exception handling to tackle the errors using try and Except block in the code.\n",
    "* Used the Oops Concept of Inheritence wherever required to Inherit the methods and constructors of parent classes. \n",
    "* We can perform Sorting of the faculty Id's, Names etc. using Quick sort and Also We can search the Professor by their Id or Name and tell the user the index position using Binary Search algorithm.\n",
    "* To ensure our code code is working perfectly, used unit testing package and performed testing on individual classes and methods."
   ]
  },
  {
   "cell_type": "markdown",
   "id": "c56b4950",
   "metadata": {},
   "source": [
    "## Steps/Process\n",
    "**1)In this Project I have created 5 different classes using  Inheritence and Exception Handling**\n",
    "* class Uni_depts(object)\n",
    "* class Faculty(Uni_depts)\n",
    "* class DataOfFaculty(Faculty)\n",
    "* class Prog_director(Faculty)\n",
    "* class Display\n",
    "\n",
    "**2)Object Instatiations** \n",
    "\n",
    "\n",
    "**3'QuickSort' Algorithm method**\n",
    "\n",
    "**4)'Binary Search' Algorithm class**\n",
    "* Computational complexities for each explained\n",
    "\n",
    "**5)Testing**\n"
   ]
  },
  {
   "cell_type": "markdown",
   "id": "717a40d6",
   "metadata": {},
   "source": [
    "1)"
   ]
  },
  {
   "cell_type": "markdown",
   "id": "51dfeebe",
   "metadata": {},
   "source": [
    "class Uni_depts(object)"
   ]
  },
  {
   "cell_type": "code",
   "execution_count": 1,
   "id": "bcfc743d",
   "metadata": {},
   "outputs": [],
   "source": [
    "## Initializing list to store the details of UMBC Faculty Members with each dictionary for individuals faculty members.\n",
    "faculty_details_tb = []"
   ]
  },
  {
   "cell_type": "code",
   "execution_count": 2,
   "id": "1d57b6f8",
   "metadata": {},
   "outputs": [],
   "source": [
    "## Uni_depts, it consists of the informations of various university departments such as \"Data Science\" and \"Computer Science\"\n",
    "## Parent Class\n",
    "class Uni_depts(object):\n",
    "    def __init__(self, branch):\n",
    "        ## CS, Ds\n",
    "        self.branch = branch"
   ]
  },
  {
   "cell_type": "markdown",
   "id": "af56c473",
   "metadata": {},
   "source": [
    "class Faculty(Uni_depts)"
   ]
  },
  {
   "cell_type": "code",
   "execution_count": 3,
   "id": "16cbf655",
   "metadata": {},
   "outputs": [],
   "source": [
    "## Class Faculty will hold the key information of all the Faculty members\n",
    "## Their names, phonenumber, joining data, branch\n",
    "class Faculty(Uni_depts):\n",
    "    \n",
    "    ## It will be a class Attribute\n",
    "    fac_count = 0\n",
    "    \n",
    "    ## Building Constructor of a class\n",
    "    def __init__(self, Id, name, birthdate, phone, joiningdate, branch):\n",
    "        ## List of each details will be created such as name upon entering\n",
    "        \n",
    "        ## Inheriting the branch attribute from Uni_depts class using super()\n",
    "        super().__init__(branch)\n",
    "        self.Id = Id\n",
    "        self.name = name\n",
    "        \n",
    "        ## Exception Handling - try and Except\n",
    "        try:\n",
    "            ## If there is second word, it will take as Last name\n",
    "            last_blank = name.rindex(' ')\n",
    "            self.last_name = name[last_blank+1:]\n",
    "        except:\n",
    "            ## Or else it will take the same name as Last name\n",
    "            self.last_name = name\n",
    "        \n",
    "        self.birthdate = birthdate\n",
    "        self.phone = phone\n",
    "        self.joiningdate = joiningdate\n",
    "        self.branch = branch\n",
    "        Faculty.fac_count += 1\n",
    "        \n",
    "    ## Professor name will be returned\n",
    "    def get_name(self):\n",
    "        return self.name\n",
    "    \n",
    "    ## Professor birthday will be returned\n",
    "    def get_birthday(self):\n",
    "        return self.birthday\n",
    "    \n",
    "    ## Professor Phone number will be returned\n",
    "    def get_phone(self):\n",
    "        return self.phone\n",
    "    \n",
    "    ## Professor joining data will be returned\n",
    "    def get_joiningdate(self):\n",
    "        return self.joiningdate \n"
   ]
  },
  {
   "cell_type": "markdown",
   "id": "0fc1bdce",
   "metadata": {},
   "source": [
    "class DataOfFaculty(Faculty)"
   ]
  },
  {
   "cell_type": "code",
   "execution_count": 4,
   "id": "6fa297d5",
   "metadata": {},
   "outputs": [],
   "source": [
    "## Class to Store the details of faculty members(Professors/Adjunct proff) using the objects from the Faculty Class.  \n",
    "## Child Class\n",
    "class DataOfFaculty(Faculty):\n",
    "    fac = 0\n",
    "    def __init__(self, Id, name, birthdate, phone, joiningdate, branch, designation):\n",
    "        ## Inheriting the constructor from Faculty class \n",
    "        Faculty.__init__(self, Id, name, birthdate, phone, joiningdate, branch)  \n",
    "        self.designation = designation\n",
    "        ## Incrementing\n",
    "        DataOfFaculty.fac +=  1\n",
    "        ## Storing to list as dictionaries\n",
    "        faculty_details_tb.append({'Id':self.Id, 'name':self.name, 'Date_birth' : self.birthdate, 'phone' : self.phone, 'joiningdate':self.joiningdate, 'position':designation, 'branch' : self.branch})\n",
    "    "
   ]
  },
  {
   "cell_type": "markdown",
   "id": "34472d0c",
   "metadata": {},
   "source": [
    "class Prog_director(Faculty)"
   ]
  },
  {
   "cell_type": "code",
   "execution_count": 5,
   "id": "519350ca",
   "metadata": {},
   "outputs": [],
   "source": [
    "## class to store the data of Graduate Program Directors(GPD's) using the objects of Faculty Class.      \n",
    "## Child Class\n",
    "class Prog_director(Faculty):\n",
    "    director = 0\n",
    "    def __init__(self, Id, name, birthdate, phone, joiningdate, branch, GPD):\n",
    "        ## Inheriting Constructor\n",
    "        Faculty.__init__(self, Id, name, birthdate, phone, joiningdate, branch)  \n",
    "        self.GPD = GPD\n",
    "        Prog_director.director += 1\n",
    "        ## Storing to list as dictionaries\n",
    "        faculty_details_tb.append({'Id':self.Id, 'name':self.name, 'Date_birth' : self.birthdate, 'phone' : self.phone, 'joiningdate':self.joiningdate, 'position':'Gpd', 'branch' : self.branch })\n",
    "    "
   ]
  },
  {
   "cell_type": "markdown",
   "id": "8f941692",
   "metadata": {},
   "source": [
    "2)"
   ]
  },
  {
   "cell_type": "markdown",
   "id": "fced9640",
   "metadata": {},
   "source": [
    "Objects"
   ]
  },
  {
   "cell_type": "code",
   "execution_count": 6,
   "id": "544e60e7",
   "metadata": {},
   "outputs": [
    {
     "data": {
      "text/plain": [
       "['Data Science', 'Computer Science']"
      ]
     },
     "execution_count": 6,
     "metadata": {},
     "output_type": "execute_result"
    }
   ],
   "source": [
    "## Objects Instation of departments\n",
    "obj_depts = Uni_depts([\"Data Science\",\"Computer Science\"])\n",
    "obj_depts.branch"
   ]
  },
  {
   "cell_type": "code",
   "execution_count": 7,
   "id": "7513c8bb",
   "metadata": {},
   "outputs": [],
   "source": [
    "## Objects Instation of faculty\n",
    "## Data Science\n",
    "fac_1 = DataOfFaculty(871,\"Tonydiana\",        '1985-03-02','9052347896', '2015-06-11', obj_depts.branch[0],'Adjunct')\n",
    "fac_2 = DataOfFaculty(874,\"Donghwa Kim\",      '1990-01-08','9752348893', '2017-03-10', obj_depts.branch[0],'Assistant')\n",
    "fac_3 = DataOfFaculty(872,\"Jyotsna Potarazu\", '1993-03-09','9253348852', '2014-10-08', obj_depts.branch[0],'Adjunct')\n",
    "fac_4 = DataOfFaculty(873,\"Chaojie\",          '1989-04-07','9158348874', '2019-08-07', obj_depts.branch[0],'Assistant')\n",
    "## Computer Science\n",
    "fac_5 = DataOfFaculty(971,\"Tulay Adali\",'1989-08-09', '9253348852', '2004-06-07', obj_depts.branch[1],'Assistant')\n",
    "fac_6 = DataOfFaculty(972,\"Gary\",       '1987-07-06', '9950348857', '2007-05-05', obj_depts.branch[1],'Adjunct')\n",
    "fac_7 = DataOfFaculty(973,\"Manas gaur\", '1989-09-07', '9753948852', '2010-06-04', obj_depts.branch[1],'Assistant')\n",
    "\n",
    "## Datascince gpd\n",
    "gpd_1 = Prog_director(870,\"Ergun Simsek\", '1980-01-08',    '9153348800', '2007-01-12',obj_depts.branch[0],[fac_1,fac_2,fac_3,fac_4])\n",
    "## Computer science gpd\n",
    "gpd_2 = Prog_director(970,\"Charles Nicholas\", '1979-10-07','9053348001', '2004-06-25',obj_depts.branch[0],[fac_5,fac_6,fac_7])"
   ]
  },
  {
   "cell_type": "markdown",
   "id": "885331ac",
   "metadata": {},
   "source": [
    "Data"
   ]
  },
  {
   "cell_type": "code",
   "execution_count": 8,
   "id": "5b0225f8",
   "metadata": {},
   "outputs": [
    {
     "data": {
      "text/plain": [
       "[{'Id': 871,\n",
       "  'name': 'Tonydiana',\n",
       "  'Date_birth': '1985-03-02',\n",
       "  'phone': '9052347896',\n",
       "  'joiningdate': '2015-06-11',\n",
       "  'position': 'Adjunct',\n",
       "  'branch': 'Data Science'},\n",
       " {'Id': 874,\n",
       "  'name': 'Donghwa Kim',\n",
       "  'Date_birth': '1990-01-08',\n",
       "  'phone': '9752348893',\n",
       "  'joiningdate': '2017-03-10',\n",
       "  'position': 'Assistant',\n",
       "  'branch': 'Data Science'},\n",
       " {'Id': 872,\n",
       "  'name': 'Jyotsna Potarazu',\n",
       "  'Date_birth': '1993-03-09',\n",
       "  'phone': '9253348852',\n",
       "  'joiningdate': '2014-10-08',\n",
       "  'position': 'Adjunct',\n",
       "  'branch': 'Data Science'},\n",
       " {'Id': 873,\n",
       "  'name': 'Chaojie',\n",
       "  'Date_birth': '1989-04-07',\n",
       "  'phone': '9158348874',\n",
       "  'joiningdate': '2019-08-07',\n",
       "  'position': 'Assistant',\n",
       "  'branch': 'Data Science'},\n",
       " {'Id': 971,\n",
       "  'name': 'Tulay Adali',\n",
       "  'Date_birth': '1989-08-09',\n",
       "  'phone': '9253348852',\n",
       "  'joiningdate': '2004-06-07',\n",
       "  'position': 'Assistant',\n",
       "  'branch': 'Computer Science'},\n",
       " {'Id': 972,\n",
       "  'name': 'Gary',\n",
       "  'Date_birth': '1987-07-06',\n",
       "  'phone': '9950348857',\n",
       "  'joiningdate': '2007-05-05',\n",
       "  'position': 'Adjunct',\n",
       "  'branch': 'Computer Science'},\n",
       " {'Id': 973,\n",
       "  'name': 'Manas gaur',\n",
       "  'Date_birth': '1989-09-07',\n",
       "  'phone': '9753948852',\n",
       "  'joiningdate': '2010-06-04',\n",
       "  'position': 'Assistant',\n",
       "  'branch': 'Computer Science'},\n",
       " {'Id': 870,\n",
       "  'name': 'Ergun Simsek',\n",
       "  'Date_birth': '1980-01-08',\n",
       "  'phone': '9153348800',\n",
       "  'joiningdate': '2007-01-12',\n",
       "  'position': 'Gpd',\n",
       "  'branch': 'Data Science'},\n",
       " {'Id': 970,\n",
       "  'name': 'Charles Nicholas',\n",
       "  'Date_birth': '1979-10-07',\n",
       "  'phone': '9053348001',\n",
       "  'joiningdate': '2004-06-25',\n",
       "  'position': 'Gpd',\n",
       "  'branch': 'Data Science'}]"
      ]
     },
     "execution_count": 8,
     "metadata": {},
     "output_type": "execute_result"
    }
   ],
   "source": [
    "## Data is available now\n",
    "faculty_details_tb"
   ]
  },
  {
   "cell_type": "markdown",
   "id": "4ffa15aa",
   "metadata": {},
   "source": [
    "class Display"
   ]
  },
  {
   "cell_type": "code",
   "execution_count": 9,
   "id": "eb64608f",
   "metadata": {},
   "outputs": [
    {
     "name": "stdout",
     "output_type": "stream",
     "text": [
      "**Data Science Department**\n",
      "-----------------------------\n",
      "Graduate Program Director[GPD]: Dr.'Ergun Simsek'\n",
      "-----------------------------\n",
      "Data Science Professors\n",
      "Id         Name                 Dateofbirth     Phone      Joiningdate     Designation\n",
      "871        Tonydiana            1985-03-02      9052347896 2015-06-11      Adjunct   \n",
      "874        Donghwa Kim          1990-01-08      9752348893 2017-03-10      Assistant \n",
      "872        Jyotsna Potarazu     1993-03-09      9253348852 2014-10-08      Adjunct   \n",
      "873        Chaojie              1989-04-07      9158348874 2019-08-07      Assistant \n",
      "\n",
      "\n",
      "**Computer Science Department**\n",
      "-----------------------------\n",
      "Graduate Program Director[GPD]: Dr.'Charles Nicholas'\n",
      "-----------------------------\n",
      "Computer Science Professors\n",
      "Id         Name                 Dateofbirth     Phone      Joiningdate     Designation\n",
      "971        Tulay Adali          1989-08-09      9253348852 2004-06-07      Assistant \n",
      "972        Gary                 1987-07-06      9950348857 2007-05-05      Adjunct   \n",
      "973        Manas gaur           1989-09-07      9753948852 2010-06-04      Assistant \n"
     ]
    }
   ],
   "source": [
    "## It will Display the List of Professor based on the Department\n",
    "class Display:\n",
    "\n",
    "    def __init__(self):\n",
    "        pass\n",
    "    def DataScience(self):\n",
    "    \n",
    "        print(f\"**Data Science Department**\")\n",
    "        print(f\"-----------------------------\\nGraduate Program Director[GPD]: Dr.'{gpd_1.name}'\\n-----------------------------\")\n",
    "        print(f\"Data Science Professors\")\n",
    "        print(\"{:<10} {:<20} {:<15} {:<10} {:<15} {:<10}\".format(\"Id\", \"Name\" , \"Dateofbirth\", \"Phone\", \"Joiningdate\", \"Designation\"))\n",
    "\n",
    "        for faculty,i in enumerate(gpd_1.GPD, 1):\n",
    "            print(\"{:<10} {:<20} {:<15} {:<10} {:<15} {:<10}\".format(i.Id,i.name,i.birthdate, i.phone, i.joiningdate, i.designation))\n",
    "    \n",
    "    def ComputerScience(self):\n",
    "    \n",
    "        print(f\"**Computer Science Department**\")\n",
    "        print(f\"-----------------------------\\nGraduate Program Director[GPD]: Dr.'{gpd_2.name}'\\n-----------------------------\")\n",
    "        print(f\"Computer Science Professors\")\n",
    "\n",
    "        print(\"{:<10} {:<20} {:<15} {:<10} {:<15} {:<10}\".format(\"Id\", \"Name\" , \"Dateofbirth\", \"Phone\", \"Joiningdate\", \"Designation\"))\n",
    "\n",
    "        for faculty,i in enumerate(gpd_2.GPD, 1):\n",
    "            print(\"{:<10} {:<20} {:<15} {:<10} {:<15} {:<10}\".format(i.Id,i.name,i.birthdate, i.phone, i.joiningdate, i.designation))\n",
    "\n",
    "d = Display()\n",
    "d.DataScience()\n",
    "print(\"\\n\")\n",
    "d.ComputerScience()"
   ]
  },
  {
   "cell_type": "markdown",
   "id": "576cac94",
   "metadata": {},
   "source": [
    "**Storing the values as list separtely for diff categories in order to perform Quick Sort and Binary Search**"
   ]
  },
  {
   "cell_type": "code",
   "execution_count": 10,
   "id": "3bab6317",
   "metadata": {},
   "outputs": [],
   "source": [
    "## Storing the values as list in order to perform Quick Sort and Searching\n",
    "Id = []\n",
    "name = []\n",
    "branch_dep = []\n",
    "## Iterating over every dictionary of the list\n",
    "for i in faculty_details_tb:\n",
    "    ## All id of different dictionaries will be stored in ID\n",
    "    Id.append(i.get('Id'))\n",
    "    ## names\n",
    "    name.append(i.get('name'))\n",
    "    ## branch\n",
    "    branch_dep.append(i.get('branch'))"
   ]
  },
  {
   "cell_type": "markdown",
   "id": "bcba5a23",
   "metadata": {},
   "source": [
    "3)"
   ]
  },
  {
   "cell_type": "markdown",
   "id": "2439b081",
   "metadata": {},
   "source": [
    "**QUICK SORT Implementation**\n",
    "\n",
    "**NOTE** : We will be writing three functions\n",
    "* 1) swapping Function to swap start and end elements respectively\n",
    "* 2) partition_fnc where we will be performing the comparions of start and end with pivot and do swapping.\n",
    "* 3) quick_sort_fnc function whhere we perform recurssion"
   ]
  },
  {
   "cell_type": "code",
   "execution_count": 11,
   "id": "7d3a3d69",
   "metadata": {},
   "outputs": [],
   "source": [
    "## Swapping function\n",
    "def swapping(x, y, li):\n",
    "    if x!=y:\n",
    "        ## We will swap x-y, y-x respectively.\n",
    "        li[x], li[y] = li[y], li[x]\n",
    "\n",
    "        \n",
    "## Partition Function\n",
    "def partition_fnc(elements, start, end):\n",
    "    ## Selecting the starting element as the pivot  \n",
    "    pivot_index = start\n",
    "    ## pivot element is stored in variable pivot\n",
    "    pivot = elements[pivot_index]\n",
    "    \n",
    "    ## Outer While Loop\n",
    "    while start < end:\n",
    "        \n",
    "        ## Start --> comparison with the pivot, stops when greater than pivot. \n",
    "        while start < len(elements) and elements[start] <= pivot:\n",
    "            ## Increment it \n",
    "            start += 1\n",
    "            \n",
    "        ## End --> comparison with the pivot, stops when less than pivot.\n",
    "        while elements[end] > pivot:\n",
    "            ## Decrement it\n",
    "            end -= 1\n",
    "            \n",
    "        ## Swapping start and end values\n",
    "        if start < end:\n",
    "            swapping(start, end, elements)\n",
    "            \n",
    "    ## Swap the pivot element with the end element \n",
    "    swapping(pivot_index, end, elements)\n",
    "\n",
    "    return end\n",
    "\n",
    "    \n",
    "## Quicksort Function        \n",
    "## Application of Recursion will be applied here.\n",
    "\n",
    "def quick_sort_fnc(elements, start, end):\n",
    "    if start < end:\n",
    "        ## Partition Index\n",
    "        p_index = partition_fnc(elements, start, end)\n",
    "        \n",
    "        ## Left Partition -- Element < pivot will be on the Left Side.\n",
    "        quick_sort_fnc(elements, start, p_index-1)\n",
    "        \n",
    "        ## Right Partition -- Element > pivot will be on the Right Side.\n",
    "        quick_sort_fnc(elements, p_index+1, end)"
   ]
  },
  {
   "cell_type": "markdown",
   "id": "49340615",
   "metadata": {},
   "source": [
    "Performing Sorting  on the the ID's of UMBC Faculty"
   ]
  },
  {
   "cell_type": "code",
   "execution_count": 12,
   "id": "c74d3f24",
   "metadata": {},
   "outputs": [
    {
     "name": "stdout",
     "output_type": "stream",
     "text": [
      "Unsorted : [871, 874, 872, 873, 971, 972, 973, 870, 970]\n",
      "\n",
      "Sorted   : [870, 871, 872, 873, 874, 970, 971, 972, 973]\n"
     ]
    }
   ],
   "source": [
    "print(f\"Unsorted : {Id}\")\n",
    "quick_sort_fnc(Id, 0, len(Id)-1)\n",
    "\n",
    "print(f\"\\nSorted   : {Id}\")"
   ]
  },
  {
   "cell_type": "markdown",
   "id": "756fad74",
   "metadata": {},
   "source": [
    "Performing Sorting  on the the Name's of UMBC Faculty"
   ]
  },
  {
   "cell_type": "code",
   "execution_count": 13,
   "id": "a4ba8e40",
   "metadata": {},
   "outputs": [
    {
     "name": "stdout",
     "output_type": "stream",
     "text": [
      "Unsorted : ['Tonydiana', 'Donghwa Kim', 'Jyotsna Potarazu', 'Chaojie', 'Tulay Adali', 'Gary', 'Manas gaur', 'Ergun Simsek', 'Charles Nicholas']\n",
      "\n",
      "Sorted   : ['Chaojie', 'Charles Nicholas', 'Donghwa Kim', 'Ergun Simsek', 'Gary', 'Jyotsna Potarazu', 'Manas gaur', 'Tonydiana', 'Tulay Adali']\n"
     ]
    }
   ],
   "source": [
    "print(f\"Unsorted : {name}\")\n",
    "quick_sort_fnc(name, 0, len(name)-1)\n",
    "\n",
    "print(f\"\\nSorted   : {name}\")"
   ]
  },
  {
   "cell_type": "markdown",
   "id": "7b33f02f",
   "metadata": {},
   "source": [
    "**Quick Sort Computational complexity**: Time & Space\n",
    "\n",
    "    Quick sort is one of the sorting algorithms based on the principle of divide and conquer technique and this algorithm is best known for this technique/strategy of dividing. According to mnay researchers, this algorithm can be regarded as the Best and speediest among other sorting algorithms because of its computational complexities both Time and Space.\n",
    "    \n",
    "    The Best and Average Time complexities of quick sort is O(n log n) where n is the length of the list;=>O(len(L) log len(L)). Here the best and averahe time complexities of ID's of Faculty will be : O(len(Id) log len(Id). The Worst Case Time complexities is O(n**2) where n is the lenth of the List. Here the worst case will be O(len(Id)**2).\n",
    "    \n",
    "    The Space Complexity will be O(log(n)). Here it will be the O(log(Len(Id)))\n",
    "    \n",
    "    \n",
    "    \n",
    "    "
   ]
  },
  {
   "cell_type": "markdown",
   "id": "ed074aca",
   "metadata": {},
   "source": [
    "**Binary Search Implementation**\n",
    "\n",
    "* Note: We need to have a sorted list in Ascending Order inorder to perform Binary search using Python, It can be considered as the Principle\n",
    "* We will be using the data sorted using Quicksort as the Input for our Binary search"
   ]
  },
  {
   "cell_type": "markdown",
   "id": "020cca59",
   "metadata": {},
   "source": [
    "Performing Binary Search on the the ID's of UMBC Faculty and will check whether the Id is present in the datset, If present it will return True and its Index position; Else False : Not Found"
   ]
  },
  {
   "cell_type": "code",
   "execution_count": 14,
   "id": "b9240a59",
   "metadata": {},
   "outputs": [
    {
     "data": {
      "text/plain": [
       "[870, 871, 872, 873, 874, 970, 971, 972, 973]"
      ]
     },
     "execution_count": 14,
     "metadata": {},
     "output_type": "execute_result"
    }
   ],
   "source": [
    "## Sorted list\n",
    "Id"
   ]
  },
  {
   "cell_type": "code",
   "execution_count": 15,
   "id": "540e4d6a",
   "metadata": {},
   "outputs": [],
   "source": [
    "## Binary Search Algo Class \n",
    "class binarySearch_algorithm:\n",
    "    ## Initializing the constructor and takes the value of num to be searched\n",
    "    def __init__(self,list_values, num):\n",
    "        self.list_values = list_values\n",
    "        self.num = num\n",
    "        \n",
    "    ## method to perform searching\n",
    "    def binarySearch_algo(self):\n",
    "        ## First Index will be lowerbound \n",
    "        lowerbound = 0\n",
    "        ## Last Index\n",
    "        upperbound = len(self.list_values)-1 ## Since index values in python starts from 0\n",
    "\n",
    "        while lowerbound <= upperbound:\n",
    "            ## Integer Division\n",
    "            mid_index = (lowerbound+upperbound)// 2\n",
    "            ## value of the mid_index\n",
    "            if self.list_values[mid_index] == self.num:\n",
    "                #print(\"Found At Index position\",mid_index)\n",
    "                return True\n",
    "            \n",
    "            ## Since value is not found we need to change the lower and upper limits\n",
    "            # If Searchvalue is smaller, Then change the Upper Bound and Mid becomes new Upper Bound\n",
    "            # If search value is bigger, Then change the LowerBound and Mid Becomes new Lower Bound \n",
    "            else:\n",
    "                if self.list_values[mid_index] < self.num:\n",
    "                    lowerbound = mid_index + 1\n",
    "                else:\n",
    "                    upperbound = mid_index - 1\n",
    "        print(\"Not Found\")\n",
    "        return False         "
   ]
  },
  {
   "cell_type": "code",
   "execution_count": 16,
   "id": "b201c98a",
   "metadata": {},
   "outputs": [
    {
     "data": {
      "text/plain": [
       "True"
      ]
     },
     "execution_count": 16,
     "metadata": {},
     "output_type": "execute_result"
    }
   ],
   "source": [
    "## Object Instantiation\n",
    "b = binarySearch_algorithm(Id,871)\n",
    "b.binarySearch_algo()"
   ]
  },
  {
   "cell_type": "markdown",
   "id": "54e79eaa",
   "metadata": {},
   "source": [
    "**Binary Search Computational Complexities:** Time & Space\n",
    "\n",
    "    Binary Search is applicable in conditions where the list is sorted in an ascending order.\n",
    "    \n",
    "    The Average Time complexities of Binary Search algorithm is  is O(log n) where n is the length of the list;=>O(log len(L)). Here the average time complexities of ID's of Faculty will be : O(log len(Id). The Worst Case Time complexities is O(n) where n is the lenth of the List. Here the worst case will be O(len(Id)).\n",
    "    \n",
    "    The Space Complexity will be O(n)). Here it will be the O(Len(Id))"
   ]
  },
  {
   "cell_type": "markdown",
   "id": "537714e6",
   "metadata": {},
   "source": [
    "4)"
   ]
  },
  {
   "cell_type": "markdown",
   "id": "7c6964b3",
   "metadata": {},
   "source": [
    "**Testing**\n",
    "* I have used unit testing\n",
    "* The unittest module provides a rich set of tools for constructing and running tests"
   ]
  },
  {
   "cell_type": "code",
   "execution_count": 17,
   "id": "b5e33409",
   "metadata": {},
   "outputs": [],
   "source": [
    "## The unittest module provides a rich set of tools for constructing and running test cases. \n",
    "import unittest"
   ]
  },
  {
   "cell_type": "code",
   "execution_count": 18,
   "id": "cafd4188",
   "metadata": {},
   "outputs": [
    {
     "name": "stderr",
     "output_type": "stream",
     "text": [
      ".\n",
      "----------------------------------------------------------------------\n",
      "Ran 1 test in 0.001s\n",
      "\n",
      "OK\n"
     ]
    }
   ],
   "source": [
    "## class Uni_depts  Testing\n",
    "class Test_Uni_depts(unittest.TestCase):\n",
    "    ## method too perform unit testing\n",
    "    def test_Uni_depts(self):\n",
    "        t1 = Uni_depts('Data Science')\n",
    "        self.assertEqual(t1.branch, 'Data Science')\n",
    "        \n",
    "if __name__ == '__main__':\n",
    "    unittest.main(argv=['first-arg-is-ignored'],exit=False)\n"
   ]
  },
  {
   "cell_type": "code",
   "execution_count": 19,
   "id": "a0376488",
   "metadata": {},
   "outputs": [
    {
     "name": "stderr",
     "output_type": "stream",
     "text": [
      "..\n",
      "----------------------------------------------------------------------\n",
      "Ran 2 tests in 0.002s\n",
      "\n",
      "OK\n"
     ]
    }
   ],
   "source": [
    "## class Faculty  Testing\n",
    "class Test_Faculty(unittest.TestCase):\n",
    "    ## method to perform unit testing\n",
    "    def test_Faculty(self):\n",
    "        fac1 = Faculty(874,'Dongwa Kim', '1990-07-04', '9745867123', '2010-03-20','Data Science')         \n",
    "        self.assertEqual(fac1.name, 'Dongwa Kim')\n",
    "        self.assertEqual(fac1.phone, '9745867123')\n",
    "        self.assertEqual(fac1.joiningdate, '2010-03-20')\n",
    "        self.assertEqual(fac1.branch, 'Data Science')\n",
    "        self.assertEqual(fac1.get_name(),'Dongwa Kim')\n",
    "        self.assertEqual(fac1.get_phone(),'9745867123')\n",
    "        self.assertEqual(fac1.get_joiningdate(),'2010-03-20')\n",
    "        \n",
    "if __name__ == '__main__':\n",
    "    unittest.main(argv=['first-arg-is-ignored'], exit=False)"
   ]
  },
  {
   "cell_type": "code",
   "execution_count": 20,
   "id": "00df7b34",
   "metadata": {},
   "outputs": [
    {
     "name": "stderr",
     "output_type": "stream",
     "text": [
      "...\n",
      "----------------------------------------------------------------------\n",
      "Ran 3 tests in 0.002s\n",
      "\n",
      "OK\n"
     ]
    }
   ],
   "source": [
    "## class DataOfFaculty  Testing\n",
    "class Test_DataOfFaculty(unittest.TestCase):\n",
    "    ## method to perform unit testing\n",
    "    def test_DataOfFaculty(self):\n",
    "        da1 = DataOfFaculty(874,'Dongwa Kim', '1990-07-04', '9745867123', '2010-03-20', obj_depts.branch[0],'Adjunct')\n",
    "        self.assertEqual(da1.Id, 874)\n",
    "        self.assertEqual(da1.name, 'Dongwa Kim')\n",
    "        self.assertEqual(da1.birthdate, '1990-07-04')\n",
    "        self.assertEqual(da1.phone, '9745867123')\n",
    "        self.assertEqual(da1.joiningdate, '2010-03-20')\n",
    "        self.assertEqual(da1.branch, 'Data Science')\n",
    "if __name__ == '__main__':\n",
    "    unittest.main(argv=['first-arg-is-ignored'],exit=False)\n",
    "   "
   ]
  },
  {
   "cell_type": "code",
   "execution_count": 21,
   "id": "d9c2a0a8",
   "metadata": {},
   "outputs": [
    {
     "name": "stderr",
     "output_type": "stream",
     "text": [
      "....\n",
      "----------------------------------------------------------------------\n",
      "Ran 4 tests in 0.003s\n",
      "\n",
      "OK\n"
     ]
    }
   ],
   "source": [
    "## class Prog_director  Testing\n",
    "class Test_Prog_director(unittest.TestCase):\n",
    "    def test_Prog_director(self):\n",
    "        pg1 = Prog_director(870,'Ergun Simsek', '1990-07-04', '9745867123', '2010-03-20',obj_depts.branch[0],[fac_1,fac_2,fac_3,fac_4])\n",
    "        self.assertEqual(pg1.Id, 870)\n",
    "        self.assertEqual(pg1.name, 'Ergun Simsek')\n",
    "        self.assertEqual(pg1.birthdate, '1990-07-04')\n",
    "        self.assertEqual(pg1.phone, '9745867123')\n",
    "        self.assertEqual(pg1.joiningdate, '2010-03-20')\n",
    "        self.assertEqual(pg1.branch, 'Data Science')\n",
    "        \n",
    "if __name__ == '__main__':\n",
    "    unittest.main(argv=['first-arg-is-ignored'],exit=False)"
   ]
  },
  {
   "cell_type": "code",
   "execution_count": 22,
   "id": "13ac1c83",
   "metadata": {},
   "outputs": [
    {
     "name": "stderr",
     "output_type": "stream",
     "text": [
      ".....\n",
      "----------------------------------------------------------------------\n",
      "Ran 5 tests in 0.005s\n",
      "\n",
      "OK\n"
     ]
    }
   ],
   "source": [
    "## quick sort testing\n",
    "class Test_quick_sort_fnc(unittest.TestCase):\n",
    "    def test_quick_sort_fnc(self):\n",
    "        elements = [11,88,22,33,55]\n",
    "        start = 0\n",
    "        end = len(elements)-1\n",
    "        result = quick_sort_fnc(elements, start, end)\n",
    "        self.assertEqual(elements, [11,22,33,55,88])\n",
    "        \n",
    "if __name__ == '__main__':\n",
    "    unittest.main(argv=['first-arg-is-ignored'],exit=False)\n"
   ]
  },
  {
   "cell_type": "code",
   "execution_count": 23,
   "id": "4bca0eb2",
   "metadata": {},
   "outputs": [
    {
     "name": "stderr",
     "output_type": "stream",
     "text": [
      "......\n",
      "----------------------------------------------------------------------\n",
      "Ran 6 tests in 0.005s\n",
      "\n",
      "OK\n"
     ]
    }
   ],
   "source": [
    "## Class Binary search algo Testing\n",
    "class Test_binarySearch_algorithm(unittest.TestCase):\n",
    "    def test_binarySearch_algorithm(self):\n",
    "        b1 = binarySearch_algorithm([870, 871, 872, 873, 874, 970, 971, 972, 973],872) \n",
    "        self.assertEqual(b1.binarySearch_algo(),True)\n",
    "    \n",
    "if __name__ == '__main__':\n",
    "    unittest.main(argv=['first-arg-is-ignored'], exit=False)"
   ]
  },
  {
   "cell_type": "code",
   "execution_count": null,
   "id": "94cf48e7",
   "metadata": {},
   "outputs": [],
   "source": []
  },
  {
   "cell_type": "markdown",
   "id": "b7633b19",
   "metadata": {},
   "source": [
    "## References\n",
    "* https://stackoverflow.com/questions/35864007/how-to-iterate-through-a-list-of-dictionaries\n",
    "* https://docs.python.org/3/library/unittest.html\n",
    "* https://www.youtube.com/watch?v=5iSZ7mh_RAk\n",
    "* https://www.freecodecamp.org/news/binary-search-in-python-with-examples/\n",
    "* https://www.bigocheatsheet.com/\n",
    "* Data690-03_Lecture5 - Classes and OOP.ipynb file\n",
    "* Data 690 Lecture 6 - Algorithmic Complexity -PDF"
   ]
  }
 ],
 "metadata": {
  "kernelspec": {
   "display_name": "Python 3",
   "language": "python",
   "name": "python3"
  },
  "language_info": {
   "codemirror_mode": {
    "name": "ipython",
    "version": 3
   },
   "file_extension": ".py",
   "mimetype": "text/x-python",
   "name": "python",
   "nbconvert_exporter": "python",
   "pygments_lexer": "ipython3",
   "version": "3.8.8"
  }
 },
 "nbformat": 4,
 "nbformat_minor": 5
}
